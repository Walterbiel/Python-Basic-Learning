{
 "cells": [
  {
   "cell_type": "code",
   "execution_count": 1,
   "metadata": {},
   "outputs": [],
   "source": [
    "import pandas as pd"
   ]
  },
  {
   "cell_type": "code",
   "execution_count": 43,
   "metadata": {},
   "outputs": [],
   "source": [
    "##FUNÇÃO\n",
    "def excel_to_csv(pathfile,sheetname):\n",
    "    df = pd.read_excel(pathfile,sheetname)\n",
    "    name = sheetname\n",
    "    df.drop(['Prior Spend','Committed','TobeCom','Beyond',2024] , axis = 1,inplace=True)\n",
    "    #unpivot\n",
    "    df = df.melt(id_vars=['Internal Order','PS ID','Seq Number','Category','Core Business','Name','Status','Strategic'], value_vars=['Jan', 'Feb','Mar','Apr','May','Jun','Jul','Aug','Sep','Oct','Nov','Dec'])\n",
    "    df['Year'] = 2024\n",
    "    df['monthnum'] = df['variable'].replace({'Jan': '01', \n",
    "                    'Feb': '02',\n",
    "                    'Mar': '03',\n",
    "                    'Apr': '04',\n",
    "                    'May': '05',\n",
    "                    'Jun': '06',\n",
    "                    'Jul': '07',\n",
    "                    'Aug': '08',\n",
    "                    'Sep': '09',\n",
    "                    'Oct': '10',\n",
    "                    'Nov': '11',\n",
    "                    'Dec': '12'\n",
    "                    })\n",
    "    df.to_csv(fr\"C:\\Users\\wgonzaga\\Downloads\\{name}.csv\",index=False)\n",
    "    return print('Função realizada com sucesso!')"
   ]
  },
  {
   "cell_type": "code",
   "execution_count": 44,
   "metadata": {},
   "outputs": [
    {
     "name": "stdout",
     "output_type": "stream",
     "text": [
      "Função realizada com sucesso!\n",
      "Função realizada com sucesso!\n"
     ]
    }
   ],
   "source": [
    "le = ['LE0' ,'LE2']\n",
    "for i in le:\n",
    "    excel_to_csv(r'C:\\Users\\wgonzaga\\Downloads\\LE0 e LE2.xlsx',i)"
   ]
  },
  {
   "cell_type": "code",
   "execution_count": null,
   "metadata": {},
   "outputs": [],
   "source": []
  }
 ],
 "metadata": {
  "kernelspec": {
   "display_name": "base",
   "language": "python",
   "name": "python3"
  },
  "language_info": {
   "codemirror_mode": {
    "name": "ipython",
    "version": 3
   },
   "file_extension": ".py",
   "mimetype": "text/x-python",
   "name": "python",
   "nbconvert_exporter": "python",
   "pygments_lexer": "ipython3",
   "version": "3.11.7"
  }
 },
 "nbformat": 4,
 "nbformat_minor": 2
}
